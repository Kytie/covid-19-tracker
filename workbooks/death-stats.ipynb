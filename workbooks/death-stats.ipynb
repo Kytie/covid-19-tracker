{
 "nbformat": 4,
 "nbformat_minor": 2,
 "metadata": {
  "language_info": {
   "name": "python",
   "codemirror_mode": {
    "name": "ipython",
    "version": 3
   },
   "version": "3.7.5-final"
  },
  "orig_nbformat": 2,
  "file_extension": ".py",
  "mimetype": "text/x-python",
  "name": "python",
  "npconvert_exporter": "python",
  "pygments_lexer": "ipython3",
  "version": 3,
  "kernelspec": {
   "name": "python37564bit3f9d432e527047648803868da35bacbf",
   "display_name": "Python 3.7.5 64-bit"
  }
 },
 "cells": [
  {
   "cell_type": "code",
   "execution_count": 1,
   "metadata": {},
   "outputs": [],
   "source": [
    "import yaml\n",
    "\n",
    "with open('../covid-19.yaml') as file:\n",
    "    dataFile = yaml.load(file, Loader=yaml.FullLoader)\n",
    "    worldData = dataFile['World']\n",
    "    countryData = dataFile['Country']"
   ]
  },
  {
   "cell_type": "code",
   "execution_count": 2,
   "metadata": {},
   "outputs": [
    {
     "output_type": "stream",
     "name": "stdout",
     "text": "World Death Statistics:\n-----------------------\n2020-04-26:\t6.99%\n2020-04-19:\t6.88%\n2020-04-12:\t6.19%\n2020-04-04:\t5.29%\n2020-04-03:\t5.23%\n2020-04-02:\t5.03%\n2020-04-01:\t4.92%\n2020-03-31:\t4.81%\n2020-03-30:\t4.71%\n2020-03-27:\t4.52%\n2020-03-26:\t4.52%\n2020-03-25:\t4.47%\n2020-03-24:\t4.32%\n2020-03-23:\t4.33%\n2020-03-20:\t4.1%\n2020-03-19:\t4.03%\n2020-03-18:\t4.01%\n2020-03-17:\t3.92%\n2020-03-16:\t3.85%\n2020-03-12:\t3.66%\n2020-03-11:\t3.59%\n2020-03-10:\t3.51%\n2020-03-09:\t3.47%\n2020-03-06:\t3.43%\n2020-03-05:\t3.42%\n2020-03-04:\t3.42%\n2020-03-03:\t3.41%\n2020-03-02:\t3.42%\n2020-02-28:\t3.42%\n2020-02-27:\t3.41%\n"
    }
   ],
   "source": [
    "print(\"World Death Statistics:\")\n",
    "print(\"-----------------------\")\n",
    "for entry in worldData:\n",
    "    print(\"{}:\\t{}%\".format(entry[\"Date\"], round((entry[\"Deaths\"]/entry[\"Confirmed\"])*100, 2)))"
   ]
  },
  {
   "cell_type": "code",
   "execution_count": 3,
   "metadata": {},
   "outputs": [
    {
     "output_type": "stream",
     "name": "stdout",
     "text": "Current Country Death Statistics:\n-----------------------\nWorld:         6.99%\n \nUK:            13.63%  (+6.64%)\nItaly:         13.51%  (+6.52%)\nNetherlands:   11.8%   (+4.81%)\nJapan:         2.72%   (-4.27%)\nSouth Korea:   2.26%   (-4.73%)\nThailand:      1.75%   (-5.24%)\n"
    }
   ],
   "source": [
    "data = []\n",
    "worldDeathAverage = round((worldData[0][\"Deaths\"]/worldData[0][\"Confirmed\"])*100, 2)\n",
    "\n",
    "print(\"Current Country Death Statistics:\")\n",
    "print(\"-----------------------\")\n",
    "print(\"{:<15s}{:<7}\".format(\"World:\", str(worldDeathAverage)+\"%\\n\"))\n",
    "for country in countryData:\n",
    "    data.append([country, round((countryData[country][0][\"Deaths\"]/countryData[country][0][\"Confirmed\"])*100, 2)])\n",
    "data.sort(key=lambda x:x[1], reverse=True)\n",
    "for dataPiece in data:\n",
    "    differenceFromAverage = round(dataPiece[1]-worldDeathAverage, 2)\n",
    "    symbol = \"\"\n",
    "    if(differenceFromAverage > 0):\n",
    "        symbol = \"+\"\n",
    "    print(\"{:<15s}{:<7} ({}%)\".format(dataPiece[0]+\":\", str(dataPiece[1])+\"%\", symbol+str(differenceFromAverage)))"
   ]
  },
  {
   "cell_type": "code",
   "execution_count": 4,
   "metadata": {},
   "outputs": [
    {
     "output_type": "stream",
     "name": "stdout",
     "text": "UK Death Statistics:\n-----------------------\n2020-04-26:\t13.63%\n2020-04-19:\t13.28%\n2020-04-12:\t12.48%\n2020-04-04:\t9.33%\n2020-04-03:\t8.56%\n2020-04-02:\t7.89%\n2020-04-01:\t7.04%\n2020-03-31:\t6.29%\n2020-03-30:\t6.22%\n2020-03-27:\t4.96%\n2020-03-26:\t4.88%\n2020-03-25:\t5.22%\n2020-03-24:\t5.04%\n2020-03-23:\t4.94%\n2020-03-20:\t5.09%\n2020-03-19:\t2.7%\n2020-03-18:\t3.64%\n2020-03-17:\t3.56%\n2020-03-16:\t2.52%\n2020-03-13:\t1.36%\n2020-03-12:\t1.75%\n2020-03-11:\t1.57%\n2020-03-10:\t1.56%\n2020-03-09:\t1.07%\n2020-03-06:\t0.86%\n2020-03-05:\t0.0%\n2020-03-04:\t0.0%\n2020-03-03:\t0.0%\n2020-03-02:\t0.0%\n2020-02-28:\t0.0%\n2020-02-27:\t0.0%\n"
    }
   ],
   "source": [
    "print(\"UK Death Statistics:\")\n",
    "print(\"-----------------------\")\n",
    "for entry in countryData[\"UK\"]:\n",
    "    print(\"{}:\\t{}%\".format(entry[\"Date\"], round((entry[\"Deaths\"]/entry[\"Confirmed\"])*100, 2)))"
   ]
  },
  {
   "cell_type": "code",
   "execution_count": 5,
   "metadata": {},
   "outputs": [
    {
     "output_type": "stream",
     "name": "stdout",
     "text": "Netherlands Death Statistics:\n-----------------------\n2020-04-26:\t11.8%\n2020-04-19:\t11.26%\n2020-04-12:\t10.67%\n2020-04-04:\t10.47%\n2020-04-03:\t9.07%\n2020-04-02:\t8.58%\n2020-04-01:\t8.21%\n2020-03-31:\t7.32%\n2020-03-30:\t7.06%\n2020-03-27:\t5.84%\n2020-03-26:\t5.55%\n2020-03-25:\t4.96%\n2020-03-24:\t4.49%\n2020-03-23:\t4.26%\n2020-03-20:\t3.09%\n2020-03-19:\t2.83%\n2020-03-18:\t2.52%\n2020-03-17:\t1.7%\n2020-03-16:\t1.76%\n2020-03-13:\t0.81%\n2020-03-12:\t0.99%\n2020-03-11:\t1.05%\n2020-03-10:\t1.25%\n2020-03-09:\t1.13%\n2020-03-06:\t0.0%\n2020-03-05:\t0.0%\n2020-03-04:\t0.0%\n2020-03-03:\t0.0%\n2020-03-02:\t0.0%\n2020-02-28:\t0.0%\n"
    }
   ],
   "source": [
    "print(\"Netherlands Death Statistics:\")\n",
    "print(\"-----------------------\")\n",
    "for entry in countryData[\"Netherlands\"]:\n",
    "    print(\"{}:\\t{}%\".format(entry[\"Date\"], round((entry[\"Deaths\"]/entry[\"Confirmed\"])*100, 2)))"
   ]
  },
  {
   "cell_type": "code",
   "execution_count": 6,
   "metadata": {},
   "outputs": [
    {
     "output_type": "stream",
     "name": "stdout",
     "text": "Italy Death Statistics:\n-----------------------\n2020-04-26:\t13.51%\n2020-04-19:\t13.22%\n2020-04-12:\t12.73%\n2020-04-04:\t12.25%\n2020-04-03:\t12.07%\n2020-04-02:\t11.9%\n2020-04-01:\t11.75%\n2020-03-31:\t11.39%\n2020-03-30:\t11.03%\n2020-03-27:\t10.19%\n2020-03-26:\t10.09%\n2020-03-25:\t9.86%\n2020-03-24:\t9.51%\n2020-03-23:\t9.26%\n2020-03-20:\t8.3%\n2020-03-19:\t8.34%\n2020-03-18:\t7.94%\n2020-03-17:\t7.71%\n2020-03-16:\t9.44%\n2020-03-16:\t7.71%\n2020-03-15:\t7.31%\n2020-03-14:\t6.81%\n2020-03-13:\t7.17%\n2020-03-12:\t6.64%\n2020-03-11:\t6.64%\n2020-03-10:\t6.22%\n2020-03-09:\t4.75%\n2020-03-08:\t4.96%\n2020-03-07:\t3.96%\n2020-03-06:\t4.25%\n2020-03-05:\t3.84%\n2020-03-04:\t3.46%\n2020-03-03:\t3.16%\n2020-03-02:\t2.55%\n2020-03-01:\t2.01%\n2020-02-29:\t2.57%\n2020-02-28:\t2.36%\n"
    }
   ],
   "source": [
    "print(\"Italy Death Statistics:\")\n",
    "print(\"-----------------------\")\n",
    "for entry in countryData[\"Italy\"]:\n",
    "    print(\"{}:\\t{}%\".format(entry[\"Date\"], round((entry[\"Deaths\"]/entry[\"Confirmed\"])*100, 2)))"
   ]
  },
  {
   "cell_type": "code",
   "execution_count": 7,
   "metadata": {},
   "outputs": [
    {
     "output_type": "stream",
     "name": "stdout",
     "text": "Japan Death Statistics:\n-----------------------\n2020-04-26:\t2.72%\n2020-04-19:\t2.19%\n2020-04-12:\t1.6%\n2020-04-04:\t2.35%\n2020-04-03:\t2.41%\n2020-04-02:\t2.39%\n2020-04-01:\t2.62%\n2020-03-31:\t2.87%\n2020-03-30:\t2.89%\n2020-03-27:\t3.39%\n2020-03-26:\t3.44%\n2020-03-25:\t3.6%\n2020-03-24:\t3.68%\n2020-03-23:\t3.72%\n2020-03-20:\t3.5%\n2020-03-19:\t3.26%\n2020-03-18:\t3.29%\n2020-03-17:\t3.24%\n2020-03-16:\t2.62%\n2020-03-13:\t2.5%\n2020-03-12:\t2.5%\n2020-03-11:\t2.07%\n2020-03-10:\t1.7%\n2020-03-09:\t3.33%\n2020-03-06:\t1.67%\n2020-03-05:\t1.67%\n2020-03-04:\t2.05%\n2020-03-03:\t2.19%\n2020-03-02:\t2.34%\n2020-02-28:\t1.77%\n2020-02-27:\t1.59%\n"
    }
   ],
   "source": [
    "print(\"Japan Death Statistics:\")\n",
    "print(\"-----------------------\")\n",
    "for entry in countryData[\"Japan\"]:\n",
    "    print(\"{}:\\t{}%\".format(entry[\"Date\"], round((entry[\"Deaths\"]/entry[\"Confirmed\"])*100, 2)))"
   ]
  },
  {
   "cell_type": "code",
   "execution_count": 8,
   "metadata": {},
   "outputs": [
    {
     "output_type": "stream",
     "name": "stdout",
     "text": "South Korea Death Statistics:\n-----------------------\n2020-04-26:\t2.26%\n2020-04-19:\t2.19%\n2020-04-12:\t2.04%\n2020-04-04:\t1.74%\n2020-04-03:\t1.73%\n2020-04-02:\t1.69%\n2020-04-01:\t1.67%\n2020-03-31:\t1.66%\n2020-03-30:\t1.64%\n2020-03-27:\t1.49%\n2020-03-26:\t1.42%\n2020-03-25:\t1.38%\n2020-03-24:\t1.33%\n2020-03-23:\t1.24%\n2020-03-20:\t1.09%\n2020-03-19:\t1.06%\n2020-03-18:\t1.0%\n2020-03-17:\t0.9%\n2020-03-16:\t0.92%\n2020-03-12:\t0.84%\n2020-03-11:\t0.7%\n2020-03-10:\t0.72%\n2020-03-09:\t0.71%\n2020-03-06:\t0.61%\n2020-03-05:\t0.57%\n2020-03-04:\t0.5%\n2020-03-03:\t0.54%\n2020-03-02:\t0.6%\n2020-02-28:\t0.56%\n2020-02-27:\t0.74%\n"
    }
   ],
   "source": [
    "print(\"South Korea Death Statistics:\")\n",
    "print(\"-----------------------\")\n",
    "for entry in countryData[\"South Korea\"]:\n",
    "    print(\"{}:\\t{}%\".format(entry[\"Date\"], round((entry[\"Deaths\"]/entry[\"Confirmed\"])*100, 2)))"
   ]
  },
  {
   "cell_type": "code",
   "execution_count": 9,
   "metadata": {},
   "outputs": [
    {
     "output_type": "stream",
     "name": "stdout",
     "text": "Thailand Death Statistics:\n-----------------------\n2020-04-26:\t1.75%\n2020-04-19:\t1.7%\n2020-04-12:\t1.49%\n2020-04-04:\t0.97%\n2020-04-03:\t0.96%\n2020-04-02:\t0.8%\n2020-04-01:\t0.68%\n2020-03-31:\t0.61%\n2020-03-30:\t0.5%\n2020-03-27:\t0.38%\n2020-03-26:\t0.43%\n2020-03-25:\t0.43%\n2020-03-24:\t0.48%\n2020-03-23:\t0.14%\n2020-03-20:\t0.37%\n2020-03-19:\t0.47%\n2020-03-18:\t0.56%\n2020-03-17:\t0.68%\n2020-03-16:\t0.88%\n2020-03-13:\t1.33%\n2020-03-12:\t1.43%\n2020-03-11:\t1.69%\n2020-03-10:\t1.89%\n2020-03-09:\t2.0%\n2020-03-06:\t2.08%\n2020-03-05:\t2.13%\n2020-03-04:\t2.33%\n2020-03-03:\t2.33%\n2020-03-02:\t2.33%\n2020-02-28:\t0.0%\n2020-02-27:\t0.0%\n"
    }
   ],
   "source": [
    "print(\"Thailand Death Statistics:\")\n",
    "print(\"-----------------------\")\n",
    "for entry in countryData[\"Thailand\"]:\n",
    "    print(\"{}:\\t{}%\".format(entry[\"Date\"], round((entry[\"Deaths\"]/entry[\"Confirmed\"])*100, 2)))"
   ]
  }
 ]
}